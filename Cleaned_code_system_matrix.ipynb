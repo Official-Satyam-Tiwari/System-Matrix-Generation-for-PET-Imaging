{
 "cells": [
  {
   "cell_type": "markdown",
   "id": "4a57323a-cd90-4130-83e4-ab25404c5f9f",
   "metadata": {},
   "source": [
    "Aim - Generate System Matrix (in an Efficient Way)"
   ]
  },
  {
   "cell_type": "code",
   "execution_count": 130,
   "id": "d59bd43f-15d5-42cf-a639-c8542b95fe66",
   "metadata": {},
   "outputs": [],
   "source": [
    "import os\n",
    "import tqdm\n",
    "import uproot\n",
    "import cupy as cp\n",
    "import cupyx.scipy.sparse as cp_sparse\n",
    "\n",
    "import numpy as np\n",
    "import pandas as pd\n",
    "import matplotlib.pyplot as plt\n",
    "\n",
    "from scipy.sparse import coo_matrix, lil_matrix, vstack, save_npz, csr_matrix, issparse"
   ]
  },
  {
   "cell_type": "markdown",
   "id": "6d1efeae-a741-46d9-b1ce-e40fbfdbbcb8",
   "metadata": {},
   "source": [
    "### Configuration Parameters"
   ]
  },
  {
   "cell_type": "code",
   "execution_count": 131,
   "id": "7c0f0b11-0319-4a00-a57c-294888e97305",
   "metadata": {},
   "outputs": [],
   "source": [
    "FILE_PATH = \"system_matrix.root\"\n",
    "TREE_NAME = \"Coincidences\"\n",
    "N_EVENTS_TO_PROCESS = 100000*1000 # Set to None to process all, or a number for testing"
   ]
  },
  {
   "cell_type": "markdown",
   "id": "8874c887-0688-4d71-bb88-8febdf3ed536",
   "metadata": {},
   "source": [
    "### Voxelization Parameters"
   ]
  },
  {
   "cell_type": "code",
   "execution_count": 132,
   "id": "f091bba1-0af4-4e10-b17b-3c59f9c8a08c",
   "metadata": {},
   "outputs": [],
   "source": [
    "VOXEL_PARAMS = {\n",
    "    \"x_min\": -400, \"x_max\": 400, \"nx\": 64,\n",
    "    \"y_min\": -400, \"y_max\": 400, \"ny\": 64,\n",
    "    \"z_min\": -700, \"z_max\": 700, \"nz\": 64,\n",
    "}"
   ]
  },
  {
   "cell_type": "code",
   "execution_count": 133,
   "id": "4c777c10-10be-49db-b9bb-de0e12827fb3",
   "metadata": {},
   "outputs": [],
   "source": [
    "TOTAL_VOXELS = VOXEL_PARAMS[\"nx\"] * VOXEL_PARAMS[\"ny\"] * VOXEL_PARAMS[\"nz\"]"
   ]
  },
  {
   "cell_type": "code",
   "execution_count": 134,
   "id": "be12e6d2-eff1-4407-baec-7a4ceb1d6897",
   "metadata": {},
   "outputs": [
    {
     "name": "stdout",
     "output_type": "stream",
     "text": [
      "262144\n"
     ]
    }
   ],
   "source": [
    "print(TOTAL_VOXELS)"
   ]
  },
  {
   "cell_type": "markdown",
   "id": "4b661ab9-3eb6-4792-accb-891d41b5498d",
   "metadata": {},
   "source": [
    "### Sinogram Parameters"
   ]
  },
  {
   "cell_type": "code",
   "execution_count": 135,
   "id": "11470471-d349-492b-80b9-51abc01057d5",
   "metadata": {},
   "outputs": [],
   "source": [
    "SINOGRAM_PARAMS = {\n",
    "    \"n_theta\": 180,  # Number of angular bins\n",
    "    \"n_s\": 128,      # Number of radial (detector) bins\n",
    "    \"s_min\": -400.0, # Min value for sinogramS variable\n",
    "    \"s_max\": 400.0,  # Max value for sinogramS variable\n",
    "}"
   ]
  },
  {
   "cell_type": "code",
   "execution_count": 136,
   "id": "5b587073-6f20-4f56-bc15-0e1454c727c7",
   "metadata": {},
   "outputs": [],
   "source": [
    "N_SINOGRAM_BINS_TOTAL = SINOGRAM_PARAMS[\"n_theta\"] * SINOGRAM_PARAMS[\"n_s\"]"
   ]
  },
  {
   "cell_type": "code",
   "execution_count": 137,
   "id": "ad8ed53c-3473-45d2-b51a-b4f12eb5a1fe",
   "metadata": {},
   "outputs": [
    {
     "name": "stdout",
     "output_type": "stream",
     "text": [
      "23040\n"
     ]
    }
   ],
   "source": [
    "print(N_SINOGRAM_BINS_TOTAL)"
   ]
  },
  {
   "cell_type": "markdown",
   "id": "8647b8ee-fa14-4cbb-b771-e8a0f77b963c",
   "metadata": {},
   "source": [
    "### Helper Function - Assign Voxel Index"
   ]
  },
  {
   "cell_type": "code",
   "execution_count": 138,
   "id": "247d3013-cec5-4141-b85c-b3fe9b67792d",
   "metadata": {},
   "outputs": [],
   "source": [
    "def assign_voxel_idx(x, y, z, x_min, x_max, nx, y_min, y_max, ny, z_min, z_max, nz):\n",
    "    \"\"\"\n",
    "    Maps continuous 3D coordinates to a discrete 1D voxel index.\n",
    "    Assumes x, y, z can be scalar or NumPy arrays.\n",
    "    \"\"\"\n",
    "    # Normalize coordinates to [0, 1)\n",
    "    xn = (x - x_min) / (x_max - x_min)\n",
    "    yn = (y - y_min) / (y_max - y_min)\n",
    "    zn = (z - z_min) / (z_max - z_min)\n",
    "\n",
    "    # Scale to voxel grid and convert to integer indices\n",
    "    xi = np.floor(xn * nx).astype(int)\n",
    "    yi = np.floor(yn * ny).astype(int)\n",
    "    zi = np.floor(zn * nz).astype(int)\n",
    "\n",
    "    # Clamp indices to be within valid range [0, N-1]\n",
    "    xi = np.clip(xi, 0, nx - 1)\n",
    "    yi = np.clip(yi, 0, ny - 1)\n",
    "    zi = np.clip(zi, 0, nz - 1)\n",
    "\n",
    "    # Convert 3D voxel index (xi, yi, zi) to 1D linear index\n",
    "    voxel_idx_1d = zi * (nx * ny) + yi * nx + xi\n",
    "    return voxel_idx_1d"
   ]
  },
  {
   "cell_type": "markdown",
   "id": "0872c8dd-2162-462b-9df8-2bb3d147471b",
   "metadata": {},
   "source": [
    "### 1. Load Data"
   ]
  },
  {
   "cell_type": "code",
   "execution_count": 139,
   "id": "ee8adada-1e54-4f53-8323-72f728bcecf1",
   "metadata": {},
   "outputs": [],
   "source": [
    "branches_to_load = [\n",
    "    # For filtering true events\n",
    "    'comptonPhantom1', 'RayleighPhantom1',\n",
    "    'comptonPhantom2', 'RayleighPhantom2',\n",
    "    # For voxelization (source position of the annihilation)\n",
    "    'sourcePosX1', 'sourcePosY1', 'sourcePosZ1',\n",
    "    # For sinogram binning\n",
    "    'sinogramTheta', 'sinogramS'\n",
    "]"
   ]
  },
  {
   "cell_type": "code",
   "execution_count": 140,
   "id": "3d1b89da-6bcf-40d7-a1c1-330373e5ee88",
   "metadata": {},
   "outputs": [],
   "source": [
    "tree = uproot.open(FILE_PATH + \":\" + TREE_NAME)"
   ]
  },
  {
   "cell_type": "code",
   "execution_count": 141,
   "id": "d32d32f4-4239-4ba4-80c6-20d1333defa8",
   "metadata": {},
   "outputs": [],
   "source": [
    "if N_EVENTS_TO_PROCESS is None:\n",
    "    df_raw = tree.arrays(branches_to_load, library=\"pd\")\n",
    "else:\n",
    "    df_raw = tree.arrays(branches_to_load, library=\"pd\", entry_stop=N_EVENTS_TO_PROCESS)"
   ]
  },
  {
   "cell_type": "code",
   "execution_count": 142,
   "id": "f2837707-fa58-4c83-8bdb-fe53ea4df8bf",
   "metadata": {},
   "outputs": [
    {
     "name": "stdout",
     "output_type": "stream",
     "text": [
      "Successfully loaded 19481401 events with 9 branches.\n"
     ]
    }
   ],
   "source": [
    "print(f\"Successfully loaded {len(df_raw)} events with {len(df_raw.columns)} branches.\")"
   ]
  },
  {
   "cell_type": "code",
   "execution_count": 143,
   "id": "bf028c25-b8dd-4ee6-b47c-06cd58c5e985",
   "metadata": {},
   "outputs": [
    {
     "data": {
      "text/plain": [
       "(array([1198176., 1853274., 2120667., 2256652., 2311212., 2313208.,\n",
       "        2255205., 2121689., 1853119., 1198199.]),\n",
       " array([-3.67859161e+02, -2.94288086e+02, -2.20717026e+02, -1.47145950e+02,\n",
       "        -7.35748825e+01, -3.81469727e-03,  7.35672531e+01,  1.47138321e+02,\n",
       "         2.20709396e+02,  2.94280457e+02,  3.67851532e+02]),\n",
       " <BarContainer object of 10 artists>)"
      ]
     },
     "execution_count": 143,
     "metadata": {},
     "output_type": "execute_result"
    },
    {
     "data": {
      "image/png": "[encoded data removed]",
      "text/plain": [
       "<Figure size 640x480 with 1 Axes>"
      ]
     },
     "metadata": {},
     "output_type": "display_data"
    }
   ],
   "source": [
    "plt.hist(df_raw[\"sourcePosX1\"])"
   ]
  },
  {
   "cell_type": "markdown",
   "id": "384ab612-09c0-4377-ba5d-9c0ae6ba8928",
   "metadata": {},
   "source": [
    "### 2. Filter for True Events (no scattering)"
   ]
  },
  {
   "cell_type": "code",
   "execution_count": 103,
   "id": "0e1d1241-29b5-430b-a8bf-ddddf0de6d20",
   "metadata": {},
   "outputs": [],
   "source": [
    "df_true = df_raw[\n",
    "    (df_raw['comptonPhantom1'] == 0) &\n",
    "    (df_raw['RayleighPhantom1'] == 0) &\n",
    "    (df_raw['comptonPhantom2'] == 0) &\n",
    "    (df_raw['RayleighPhantom2'] == 0)\n",
    "].copy() # Use .copy() to avoid SettingWithCopyWarning"
   ]
  },
  {
   "cell_type": "code",
   "execution_count": 104,
   "id": "9eb44b43-3145-4805-971b-4a5d93843f54",
   "metadata": {},
   "outputs": [
    {
     "name": "stdout",
     "output_type": "stream",
     "text": [
      "Number of true events after filtering: 19367487\n"
     ]
    }
   ],
   "source": [
    "print(f\"Number of true events after filtering: {len(df_true)}\")"
   ]
  },
  {
   "cell_type": "code",
   "execution_count": 105,
   "id": "ebb1a76c-5886-4146-8f53-2d50b56f39bf",
   "metadata": {},
   "outputs": [
    {
     "name": "stdout",
     "output_type": "stream",
     "text": [
      "Number of removed events after filtering: 113914\n"
     ]
    }
   ],
   "source": [
    "print(f\"Number of removed events after filtering: {len(df_raw) - len(df_true)}\")"
   ]
  },
  {
   "cell_type": "markdown",
   "id": "0b1ef7b9-791c-4b0c-b0ce-f40e1180961a",
   "metadata": {},
   "source": [
    "### 3. Voxelize Event Source Positions"
   ]
  },
  {
   "cell_type": "code",
   "execution_count": 144,
   "id": "db291548-cb9e-4145-9311-b8d70ce82a17",
   "metadata": {},
   "outputs": [],
   "source": [
    "x_pos = cp.array(df_true['sourcePosX1'].values)\n",
    "y_pos = cp.array(df_true['sourcePosY1'].values)\n",
    "z_pos = cp.array(df_true['sourcePosZ1'].values)\n",
    "\n",
    "x_c = cp.clip(x_pos, VOXEL_PARAMS[\"x_min\"], VOXEL_PARAMS[\"x_max\"] - 1e-6)\n",
    "y_c = cp.clip(y_pos, VOXEL_PARAMS[\"y_min\"], VOXEL_PARAMS[\"y_max\"] - 1e-6)\n",
    "z_c = cp.clip(z_pos, VOXEL_PARAMS[\"z_min\"], VOXEL_PARAMS[\"z_max\"] - 1e-6)\n",
    "\n",
    "xi = ((x_c - VOXEL_PARAMS[\"x_min\"]) / (VOXEL_PARAMS[\"x_max\"] - VOXEL_PARAMS[\"x_min\"]) * VOXEL_PARAMS[\"nx\"]).astype(cp.int32)\n",
    "yi = ((y_c - VOXEL_PARAMS[\"y_min\"]) / (VOXEL_PARAMS[\"y_max\"] - VOXEL_PARAMS[\"y_min\"]) * VOXEL_PARAMS[\"ny\"]).astype(cp.int32)\n",
    "zi = ((z_c - VOXEL_PARAMS[\"z_min\"]) / (VOXEL_PARAMS[\"z_max\"] - VOXEL_PARAMS[\"z_min\"]) * VOXEL_PARAMS[\"nz\"]).astype(cp.int32)\n",
    "\n",
    "xi = cp.maximum(0, cp.minimum(VOXEL_PARAMS[\"nx\"] - 1, xi))\n",
    "yi = cp.maximum(0, cp.minimum(VOXEL_PARAMS[\"ny\"] - 1, yi))\n",
    "zi = cp.maximum(0, cp.minimum(VOXEL_PARAMS[\"nz\"] - 1, zi))\n",
    "\n",
    "voxel_index_1d = zi * (VOXEL_PARAMS[\"nx\"] * VOXEL_PARAMS[\"ny\"]) + yi * VOXEL_PARAMS[\"nx\"] + xi\n",
    "\n",
    "df_true['voxel_id'] = cp.asnumpy(voxel_index_1d)"
   ]
  },
  {
   "cell_type": "markdown",
   "id": "82fcb1ae-7d54-471d-a2a9-e094fad2dc33",
   "metadata": {},
   "source": [
    "```\n",
    "voxel_ids_for_df_true = []\n",
    "\n",
    "for index, row in tqdm.tqdm(df_true.iterrows(),total=len(df_true)):\n",
    "    x_pos, y_pos, z_pos = row['sourcePosX1'], row['sourcePosY1'], row['sourcePosZ1']\n",
    "\n",
    "    x_c = np.clip(x_pos, VOXEL_PARAMS[\"x_min\"], VOXEL_PARAMS[\"x_max\"] - 1e-6)\n",
    "    y_c = np.clip(y_pos, VOXEL_PARAMS[\"y_min\"], VOXEL_PARAMS[\"y_max\"] - 1e-6)\n",
    "    z_c = np.clip(z_pos, VOXEL_PARAMS[\"z_min\"], VOXEL_PARAMS[\"z_max\"] - 1e-6)\n",
    "\n",
    "    xi = int((x_c - VOXEL_PARAMS[\"x_min\"]) / (VOXEL_PARAMS[\"x_max\"] - VOXEL_PARAMS[\"x_min\"]) * VOXEL_PARAMS[\"nx\"])\n",
    "    yi = int((y_c - VOXEL_PARAMS[\"y_min\"]) / (VOXEL_PARAMS[\"y_max\"] - VOXEL_PARAMS[\"y_min\"]) * VOXEL_PARAMS[\"ny\"])\n",
    "    zi = int((z_c - VOXEL_PARAMS[\"z_min\"]) / (VOXEL_PARAMS[\"z_max\"] - VOXEL_PARAMS[\"z_min\"]) * VOXEL_PARAMS[\"nz\"])\n",
    "\n",
    "    xi = max(0, min(VOXEL_PARAMS[\"nx\"] - 1, xi))\n",
    "    yi = max(0, min(VOXEL_PARAMS[\"ny\"] - 1, yi))\n",
    "    zi = max(0, min(VOXEL_PARAMS[\"nz\"] - 1, zi))\n",
    "\n",
    "    voxel_index_1d = zi * (VOXEL_PARAMS[\"nx\"] * VOXEL_PARAMS[\"ny\"]) + yi * VOXEL_PARAMS[\"nx\"] + xi\n",
    "    voxel_ids_for_df_true.append(voxel_index_1d)\n",
    "\n",
    "df_true['voxel_id'] = voxel_ids_for_df_true"
   ]
  },
  {
   "cell_type": "code",
   "execution_count": 145,
   "id": "3059b3e5-2059-41d4-96f6-6c5625da53aa",
   "metadata": {},
   "outputs": [
    {
     "name": "stdout",
     "output_type": "stream",
     "text": [
      "Statistics of total emissions per voxel (from df_true):\n",
      "count    181000.000000\n",
      "mean        107.002691\n",
      "std          69.831358\n",
      "min           1.000000\n",
      "25%          50.000000\n",
      "50%          87.000000\n",
      "75%         153.000000\n",
      "max         373.000000\n",
      "Name: count, dtype: float64\n"
     ]
    }
   ],
   "source": [
    "total_emissions_per_voxel = df_true['voxel_id'].value_counts()\n",
    "print(\"Statistics of total emissions per voxel (from df_true):\")\n",
    "print(total_emissions_per_voxel.describe())"
   ]
  },
  {
   "cell_type": "code",
   "execution_count": 146,
   "id": "b672e158-b318-41ed-952b-407cfae35501",
   "metadata": {},
   "outputs": [
    {
     "data": {
      "image/png": "[encoded data removed]",
      "text/plain": [
       "<Figure size 1000x600 with 1 Axes>"
      ]
     },
     "metadata": {},
     "output_type": "display_data"
    }
   ],
   "source": [
    "plt.figure(figsize=(10,6))\n",
    "plt.hist(total_emissions_per_voxel.values, bins=50, log=False) # Use log scale for y-axis\n",
    "plt.title(\"Distribution of Number of True Events Originating per Voxel\")\n",
    "plt.xlabel(\"Number of Events from a Single Voxel\")\n",
    "plt.ylabel(\"Number of Voxels (Not in Log Scale)\")\n",
    "plt.show()"
   ]
  },
  {
   "cell_type": "code",
   "execution_count": 147,
   "id": "d6798ffd-6fe0-4e48-8549-8367ff224c51",
   "metadata": {},
   "outputs": [
    {
     "data": {
      "image/png": "[encoded data removed]",
      "text/plain": [
       "<Figure size 1000x600 with 1 Axes>"
      ]
     },
     "metadata": {},
     "output_type": "display_data"
    }
   ],
   "source": [
    "plt.figure(figsize=(10, 6))\n",
    "plt.hist(df_true['voxel_id'], bins=min(TOTAL_VOXELS, 100), edgecolor='black')\n",
    "plt.title('Distribution of True Events in Voxels')\n",
    "plt.xlabel('Voxel ID')\n",
    "plt.ylabel('Number of Events')\n",
    "plt.grid(True, linestyle='--', alpha=0.7)\n",
    "plt.show()"
   ]
  },
  {
   "cell_type": "markdown",
   "id": "9c884a1f-58b1-4fbf-87b2-4846d49b7ed0",
   "metadata": {},
   "source": [
    "### 4. Build System Matrix (Counts)"
   ]
  },
  {
   "cell_type": "markdown",
   "id": "d59c1054-6d2e-4b7a-acf1-40fd3218478c",
   "metadata": {},
   "source": [
    "```\n",
    "This matrix will have:\n",
    "Rows: Flattened sinogram bins (theta_idx, s_idx)\n",
    "Columns: Voxel IDs (voxel_id)\n",
    "Value: Number of times an event from a voxel was detected in a sinogram bin\n",
    "\n",
    "We use LIL format for building, then convert to CSR.\n",
    "We build it \"transposed\" for easier LIL construction based on (voxel_id, sinogram_bin)\n",
    "then transpose it back to the standard (sinogram_bin, voxel_id) convention.\n",
    "OR, we can build it directly with (sinogram_bin, voxel_id) but LIL construction is row-major.\n",
    "\n",
    "Let's build it with (flattened_sinogram_bin, voxel_id) directly.\n",
    "This requires one LIL matrix per theta, then vstack."
   ]
  },
  {
   "cell_type": "markdown",
   "id": "ca5568d1-b482-42a6-98e3-7cf2479eb2c4",
   "metadata": {},
   "source": [
    "```\n",
    "system_matrix_lil_by_theta = [\n",
    "    lil_matrix((SINOGRAM_PARAMS[\"n_s\"], TOTAL_VOXELS), dtype=np.int32)\n",
    "    for _ in range(SINOGRAM_PARAMS[\"n_theta\"])\n",
    "]\n",
    "\n",
    "CHUNK_SIZE = 10000*10\n",
    "num_chunks = (len(df_true) - 1) // CHUNK_SIZE + 1\n",
    "\n",
    "for i_chunk in range(num_chunks):\n",
    "    \n",
    "    start_idx = i_chunk * CHUNK_SIZE\n",
    "    end_idx = min((i_chunk + 1) * CHUNK_SIZE, len(df_true))\n",
    "    \n",
    "    chunk_df = df_true.iloc[start_idx:end_idx]\n",
    "    \n",
    "    print(f\"  Processing chunk {i_chunk+1}/{num_chunks} for system matrix ({len(chunk_df)} events)\")\n",
    "\n",
    "    for _, row in chunk_df.iterrows():\n",
    "        \n",
    "        # Determine theta_idx for sinogram bin\n",
    "        theta_val = row['sinogramTheta']\n",
    "        if theta_val >= 180.0 and SINOGRAM_PARAMS[\"n_theta\"] <= 180:\n",
    "             theta_val = theta_val % 180.0\n",
    "        theta_idx = int(theta_val / 180.0 * SINOGRAM_PARAMS[\"n_theta\"])\n",
    "        theta_idx = max(0, min(SINOGRAM_PARAMS[\"n_theta\"] - 1, theta_idx))\n",
    "\n",
    "        # Determine s_idx for sinogram bin\n",
    "        s_val = row['sinogramS']\n",
    "        s_idx = int(\n",
    "            (s_val - SINOGRAM_PARAMS[\"s_min\"]) /\n",
    "            (SINOGRAM_PARAMS[\"s_max\"] - SINOGRAM_PARAMS[\"s_min\"]) * SINOGRAM_PARAMS[\"n_s\"]\n",
    "        )\n",
    "        s_idx = max(0, min(SINOGRAM_PARAMS[\"n_s\"] - 1, s_idx))\n",
    "\n",
    "        # Get the source voxel ID (column index for the system matrix)\n",
    "        voxel_id_val = row['voxel_id']\n",
    "        if pd.isna(voxel_id_val): continue # Should not happen if previous steps are correct\n",
    "        voxel_id = int(voxel_id_val)\n",
    "\n",
    "        if not (0 <= voxel_id < TOTAL_VOXELS): continue # Sanity check\n",
    "\n",
    "        # Increment the count in the LIL matrix for the specific theta_idx\n",
    "        # The LIL matrix system_matrix_lil_by_theta[theta_idx] has rows for s_idx and columns for voxel_id\n",
    "        system_matrix_lil_by_theta[theta_idx][s_idx, voxel_id] += 1\n",
    "\n",
    "system_matrix_counts = vstack(system_matrix_lil_by_theta, format='csr', dtype=np.float64)"
   ]
  },
  {
   "cell_type": "code",
   "execution_count": 148,
   "id": "0056cbe5-f70a-4680-870d-3d6c1016dae7",
   "metadata": {},
   "outputs": [],
   "source": [
    "# Initialize system_matrix_csr_by_theta\n",
    "system_matrix_csr_by_theta = [None] * SINOGRAM_PARAMS[\"n_theta\"]\n",
    "\n",
    "CHUNK_SIZE = 100000  # Adjust based on GPU memory\n",
    "num_chunks = (len(df_true) - 1) // CHUNK_SIZE + 1\n",
    "\n",
    "for i_chunk in range(num_chunks):\n",
    "    start_idx = i_chunk * CHUNK_SIZE\n",
    "    end_idx = min((i_chunk + 1) * CHUNK_SIZE, len(df_true))\n",
    "    chunk_df = df_true.iloc[start_idx:end_idx]\n",
    "    #print(f\"  Processing chunk {i_chunk+1}/{num_chunks} for system matrix ({len(chunk_df)} events)\")\n",
    "\n",
    "    # Transfer data to GPU\n",
    "    theta_val = cp.array(chunk_df['sinogramTheta'].values)\n",
    "    s_val = cp.array(chunk_df['sinogramS'].values)\n",
    "    voxel_id = cp.array(chunk_df['voxel_id'].values, dtype=cp.int32)\n",
    "\n",
    "    # Handle NaN voxel IDs\n",
    "    valid_mask = ~cp.isnan(voxel_id)\n",
    "    theta_val = theta_val[valid_mask]\n",
    "    s_val = s_val[valid_mask]\n",
    "    voxel_id = voxel_id[valid_mask].astype(cp.int32)\n",
    "\n",
    "    # Sanity check for voxel_id\n",
    "    valid_voxel_mask = (voxel_id >= 0) & (voxel_id < TOTAL_VOXELS)\n",
    "    theta_val = theta_val[valid_voxel_mask]\n",
    "    s_val = s_val[valid_voxel_mask]\n",
    "    voxel_id = voxel_id[valid_voxel_mask]\n",
    "\n",
    "    # Compute theta_idx\n",
    "    theta_val = cp.where(theta_val >= 180.0, theta_val % 180.0, theta_val)\n",
    "    theta_idx = (theta_val / 180.0 * SINOGRAM_PARAMS[\"n_theta\"]).astype(cp.int32)\n",
    "    theta_idx = cp.clip(theta_idx, 0, SINOGRAM_PARAMS[\"n_theta\"] - 1)\n",
    "\n",
    "    # Compute s_idx\n",
    "    s_idx = (\n",
    "        (s_val - SINOGRAM_PARAMS[\"s_min\"]) /\n",
    "        (SINOGRAM_PARAMS[\"s_max\"] - SINOGRAM_PARAMS[\"s_min\"]) * SINOGRAM_PARAMS[\"n_s\"]\n",
    "    ).astype(cp.int32)\n",
    "    s_idx = cp.clip(s_idx, 0, SINOGRAM_PARAMS[\"n_s\"] - 1)\n",
    "\n",
    "    # For each unique theta_idx, create a sparse matrix\n",
    "    unique_theta_idx = cp.unique(theta_idx)\n",
    "    \n",
    "    for theta in unique_theta_idx.get():  # Transfer to CPU for iteration\n",
    "        # Create mask for current theta\n",
    "        theta_mask = theta_idx == theta\n",
    "        s_idx_theta = s_idx[theta_mask]\n",
    "        voxel_id_theta = voxel_id[theta_mask]\n",
    "\n",
    "        # Create COO matrix for this theta\n",
    "        if s_idx_theta.size == 0:  # Handle empty data\n",
    "            matrix = csr_matrix((SINOGRAM_PARAMS[\"n_s\"], TOTAL_VOXELS), dtype=np.float64)  # Use csr_matrix class\n",
    "        else:\n",
    "            data = cp.ones(s_idx_theta.shape[0], dtype=cp.float64)\n",
    "            row = s_idx_theta\n",
    "            col = voxel_id_theta\n",
    "            coo_matrix = cp_sparse.coo_matrix(\n",
    "                (data, (row, col)),\n",
    "                shape=(SINOGRAM_PARAMS[\"n_s\"], TOTAL_VOXELS),\n",
    "                dtype=cp.float64\n",
    "            )\n",
    "            # Convert to CSR and transfer to CPU\n",
    "            matrix = coo_matrix.tocsr().get()  # .get() converts to SciPy CSR\n",
    "\n",
    "        # Store or accumulate\n",
    "        if system_matrix_csr_by_theta[theta] is None:\n",
    "            system_matrix_csr_by_theta[theta] = matrix\n",
    "        else:\n",
    "            system_matrix_csr_by_theta[theta] += matrix\n",
    "\n",
    "# Convert GPU CSR matrices to CPU CSR matrices and stack\n",
    "system_matrix_csr_by_theta = [\n",
    "    m if m is not None else csr_matrix((SINOGRAM_PARAMS[\"n_s\"], TOTAL_VOXELS), dtype=np.float64)  # Use csr_matrix class\n",
    "    for m in system_matrix_csr_by_theta\n",
    "]\n",
    "\n",
    "# Verify shapes\n",
    "n_cols = TOTAL_VOXELS\n",
    "for i, m in enumerate(system_matrix_csr_by_theta):\n",
    "    if not issparse(m) or not isinstance(m, csr_matrix):  # Check against scipy.sparse.csr_matrix\n",
    "        raise ValueError(f\"Matrix {i} is not a valid SciPy CSR matrix: {type(m)}\")\n",
    "    if m.shape != (SINOGRAM_PARAMS[\"n_s\"], n_cols):\n",
    "        raise ValueError(f\"Matrix {i} has incompatible shape {m.shape}\")\n",
    "\n",
    "# Stack the matrices\n",
    "if not system_matrix_csr_by_theta:\n",
    "    raise ValueError(\"No valid matrices to stack\")\n",
    "system_matrix_counts = vstack(system_matrix_csr_by_theta, format='csr', dtype=np.float64)"
   ]
  },
  {
   "cell_type": "code",
   "execution_count": 149,
   "id": "4d4023ca-720a-418f-9cf4-ef6936eb6d67",
   "metadata": {},
   "outputs": [
    {
     "name": "stdout",
     "output_type": "stream",
     "text": [
      "System matrix (counts) => Shape: (N_Sinogram_Bins, N_Voxels) = (23040, 262144)\n"
     ]
    }
   ],
   "source": [
    "print(f\"System matrix (counts) => Shape: (N_Sinogram_Bins, N_Voxels) = {system_matrix_counts.shape}\")\n",
    "assert system_matrix_counts.shape == (N_SINOGRAM_BINS_TOTAL, TOTAL_VOXELS)"
   ]
  },
  {
   "cell_type": "markdown",
   "id": "4de1707b-7b70-4669-80c0-9d4c71948479",
   "metadata": {},
   "source": [
    "### 5. Normalize System Matrix"
   ]
  },
  {
   "cell_type": "code",
   "execution_count": 150,
   "id": "6436a0e5-b3ed-4bed-94db-3d9a9a5ee0f4",
   "metadata": {},
   "outputs": [],
   "source": [
    "total_emissions_per_voxel = df_true['voxel_id'].value_counts()"
   ]
  },
  {
   "cell_type": "code",
   "execution_count": 151,
   "id": "ad7b105d-d46e-4c09-9c23-1721067659b5",
   "metadata": {},
   "outputs": [],
   "source": [
    "system_matrix_A = system_matrix_counts.copy().astype(np.float64)"
   ]
  },
  {
   "cell_type": "markdown",
   "id": "6baf8191-e601-4a58-a659-d1d8e90e0b26",
   "metadata": {},
   "source": [
    "```\n",
    "for i in range(len(system_matrix_A.data)):\n",
    "    voxel_col_idx = system_matrix_A.indices[i] # This is the voxel_id for the current data point\n",
    "\n",
    "    if voxel_col_idx in total_emissions_per_voxel:\n",
    "        normalization_factor = total_emissions_per_voxel[voxel_col_idx]\n",
    "        if normalization_factor > 0:\n",
    "            system_matrix_A.data[i] /= normalization_factor\n",
    "        else:\n",
    "            # This voxel had 0 emissions recorded in df_true but has entry in matrix (should not happen with true events)\n",
    "            system_matrix_A.data[i] = 0.0\n",
    "    else:\n",
    "        # This voxel_id was not in total_emissions_per_voxel (meaning 0 emissions from it)\n",
    "        # but it has a non-zero entry in the system_matrix_counts. This implies an issue\n",
    "        # or that the voxel was empty. Set its contribution to 0.\n",
    "        system_matrix_A.data[i] = 0.0"
   ]
  },
  {
   "cell_type": "code",
   "execution_count": 152,
   "id": "62bd607c-b8b6-4fe0-b8d5-6dae44457116",
   "metadata": {},
   "outputs": [
    {
     "name": "stdout",
     "output_type": "stream",
     "text": [
      "total_emissions_per_voxel size: 262144\n",
      "total_emissions_per_voxel non-zero count: 181000\n",
      "total_emissions_per_voxel max value: 373.0\n"
     ]
    }
   ],
   "source": [
    "# Compute total_emissions_per_voxel as the column sums of system_matrix_A\n",
    "total_emissions_per_voxel = np.array(system_matrix_A.sum(axis=0)).flatten()\n",
    "\n",
    "# Debug: Verify total_emissions_per_voxel\n",
    "print(\"total_emissions_per_voxel size:\", total_emissions_per_voxel.size)\n",
    "print(\"total_emissions_per_voxel non-zero count:\", np.count_nonzero(total_emissions_per_voxel))\n",
    "print(\"total_emissions_per_voxel max value:\", np.max(total_emissions_per_voxel))\n",
    "\n",
    "# Convert system_matrix_A to CuPy sparse CSR matrix\n",
    "system_matrix_A_gpu = cp_sparse.csr_matrix((cp.asarray(system_matrix_A.data),\n",
    "                                           cp.asarray(system_matrix_A.indices),\n",
    "                                           cp.asarray(system_matrix_A.indptr)),\n",
    "                                          shape=system_matrix_A.shape)\n",
    "\n",
    "# Convert total_emissions_per_voxel to CuPy array\n",
    "normalization_factors = cp.asarray(total_emissions_per_voxel, dtype=cp.float64)\n",
    "\n",
    "# Vectorized normalization on GPU\n",
    "norm_factors = normalization_factors[system_matrix_A_gpu.indices]\n",
    "system_matrix_A_gpu.data = cp.where(norm_factors > 0, system_matrix_A_gpu.data / norm_factors, 0.0)\n",
    "\n",
    "# Transfer result back to CPU\n",
    "system_matrix_A.data = cp.asnumpy(system_matrix_A_gpu.data)"
   ]
  },
  {
   "cell_type": "markdown",
   "id": "346a028b-376d-423e-a958-d8af8e7929b9",
   "metadata": {},
   "source": [
    "### 6. Save System Matrix"
   ]
  },
  {
   "cell_type": "code",
   "execution_count": 153,
   "id": "d519790c-d742-4923-a9ef-117fc6514f3a",
   "metadata": {},
   "outputs": [
    {
     "name": "stdout",
     "output_type": "stream",
     "text": [
      "Saving system matrix to system_matrix_A.npz...\n",
      "System Matrix saved. Shape: (23040, 262144)\n",
      "Approximate memory usage of sparse system matrix: 168.47 MB\n",
      "Number of non-zero elements in system matrix: 14713057\n",
      "Sparsity of system matrix: 0.243602%\n"
     ]
    }
   ],
   "source": [
    "output_filename_sm = \"system_matrix_A.npz\"\n",
    "print(f\"Saving system matrix to {output_filename_sm}...\")\n",
    "\n",
    "save_npz(output_filename_sm, system_matrix_A)\n",
    "print(f\"System Matrix saved. Shape: {system_matrix_A.shape}\")\n",
    "\n",
    "mem_usage_bytes_sm = (system_matrix_A.data.nbytes +\n",
    "                      system_matrix_A.indices.nbytes +\n",
    "                      system_matrix_A.indptr.nbytes)\n",
    "mem_usage_mb_sm = mem_usage_bytes_sm / (1024**2)\n",
    "\n",
    "print(f\"Approximate memory usage of sparse system matrix: {mem_usage_mb_sm:.2f} MB\")\n",
    "print(f\"Number of non-zero elements in system matrix: {system_matrix_A.nnz}\")\n",
    "\n",
    "total_elements_sm = system_matrix_A.shape[0] * system_matrix_A.shape[1]\n",
    "if total_elements_sm > 0:\n",
    "    sparsity_pct_sm = (system_matrix_A.nnz / total_elements_sm) * 100\n",
    "    print(f\"Sparsity of system matrix: {sparsity_pct_sm:.6f}%\")\n",
    "else:\n",
    "    print(\"Sparsity: N/A (empty matrix)\")"
   ]
  },
  {
   "cell_type": "markdown",
   "id": "017aad43-a995-44ee-9dc5-32762b9d29d1",
   "metadata": {},
   "source": [
    "### Difference between Sinogram and System Matrix"
   ]
  },
  {
   "cell_type": "markdown",
   "id": "61774bed-d77a-420d-9294-47af325e609c",
   "metadata": {},
   "source": [
    "**Sinogram Matrix (p)**\n",
    "\n",
    "- For 2D parallel beam geometry (common example): Rows correspond to detector positions (s), and columns correspond to projection angles (θ). So, it's an (num_detector_bins x num_angles) matrix.\n",
    "- More generally, it's a collection of M distinct measurements. So, p can be thought of as a long list (vector) of these M measurement values."
   ]
  },
  {
   "cell_type": "markdown",
   "id": "7f1e4abb-3179-4460-ac46-f87867706e7f",
   "metadata": {},
   "source": [
    "**System Matrix (A)**\n",
    "\n",
    "Element A[i, j] represents the contribution of voxel j in the object to the measurement i in the sinogram.\n",
    "- In PET: A[i, j] is the probability that an emission from voxel j is detected in sinogram bin i.\n",
    "- In CT (transmission): A[i, j] is the length of intersection of the X-ray beam corresponding to sinogram bin i with voxel j.\n",
    "\n",
    "\n",
    "* Rows: Correspond to the sinogram bins/measurements (M of them).\n",
    "* Columns: Correspond to the image voxels (N of them).\n",
    "So, it's an M x N matrix."
   ]
  },
  {
   "cell_type": "markdown",
   "id": "15b3ad33-30b3-4c4f-b429-e215528ce45b",
   "metadata": {},
   "source": [
    "**Fundamental Equation:**\n",
    "\n",
    "The relationship is often expressed as:\n",
    "\n",
    "p = A * f + noise\n",
    "\n",
    "- p (Sinogram vector, M x 1): What the scanner measures.\n",
    "- A (System Matrix, M x N): How the scanner works.\n",
    "- f (Image vector, N x 1): What's inside the object (unknown).\n",
    "- noise: Imperfections in the measurement."
   ]
  },
  {
   "cell_type": "markdown",
   "id": "7151a353-6983-4052-a5dd-d0372a783eb2",
   "metadata": {},
   "source": [
    "A[i,j] ≈ (Number of detected events in bin 'i' originating from voxel 'j') / (Total number of events simulated/processed originating from voxel 'j')"
   ]
  },
  {
   "cell_type": "markdown",
   "id": "6e50607a-4577-4a8a-b0b8-683a5d4adc7f",
   "metadata": {},
   "source": [
    "### Verifying Correctness"
   ]
  },
  {
   "cell_type": "code",
   "execution_count": 154,
   "id": "fc34461f-877e-45e9-ba88-869bf10762c0",
   "metadata": {},
   "outputs": [
    {
     "name": "stdout",
     "output_type": "stream",
     "text": [
      "Sanity Check 1: All system matrix elements are non-negative - PASSED\n"
     ]
    }
   ],
   "source": [
    "if (system_matrix_A.data < 0).any():\n",
    "    print(\"ERROR: System matrix contains negative values!\")\n",
    "else:\n",
    "    print(\"Sanity Check 1: All system matrix elements are non-negative - PASSED\")"
   ]
  },
  {
   "cell_type": "code",
   "execution_count": 155,
   "id": "816bae92-ec54-4f5f-9dda-68ad5a299bec",
   "metadata": {},
   "outputs": [
    {
     "name": "stdout",
     "output_type": "stream",
     "text": [
      "Sanity Check 2: Sum of probabilities per voxel (detection efficiency) <= 1 - PASSED (for non-zero voxels)\n"
     ]
    }
   ],
   "source": [
    "total_detection_efficiency_per_voxel = np.array(system_matrix_A.sum(axis=0)).flatten()\n",
    "if (total_detection_efficiency_per_voxel > 1.00001).any(): # Allow for tiny float precision issues\n",
    "    print(\"WARNING: Sum of probabilities for some voxels exceeds 1. Check normalization.\")\n",
    "    print(f\"Max sum found: {total_detection_efficiency_per_voxel.max()}\")\n",
    "else:\n",
    "    print(\"Sanity Check 2: Sum of probabilities per voxel (detection efficiency) <= 1 - PASSED (for non-zero voxels)\")"
   ]
  }
 ],
 "metadata": {
  "kernelspec": {
   "display_name": "Python 3 (ipykernel)",
   "language": "python",
   "name": "python3"
  },
  "language_info": {
   "codemirror_mode": {
    "name": "ipython",
    "version": 3
   },
   "file_extension": ".py",
   "mimetype": "text/x-python",
   "name": "python",
   "nbconvert_exporter": "python",
   "pygments_lexer": "ipython3",
   "version": "3.12.7"
  }
 },
 "nbformat": 4,
 "nbformat_minor": 5
}
